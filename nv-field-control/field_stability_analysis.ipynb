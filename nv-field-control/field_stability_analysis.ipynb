{
 "cells": [
  {
   "cell_type": "code",
   "execution_count": 21,
   "id": "c6a2d647-ade6-4472-a560-e39d80e8e869",
   "metadata": {},
   "outputs": [],
   "source": [
    "import matplotlib.pyplot as plt\n",
    "import numpy as np\n",
    "import pandas as pd"
   ]
  },
  {
   "cell_type": "code",
   "execution_count": 12,
   "id": "14567341-cd2c-43e3-80ff-3e8cece3353f",
   "metadata": {},
   "outputs": [
    {
     "data": {
      "text/html": [
       "<div>\n",
       "<style scoped>\n",
       "    .dataframe tbody tr th:only-of-type {\n",
       "        vertical-align: middle;\n",
       "    }\n",
       "\n",
       "    .dataframe tbody tr th {\n",
       "        vertical-align: top;\n",
       "    }\n",
       "\n",
       "    .dataframe thead th {\n",
       "        text-align: right;\n",
       "    }\n",
       "</style>\n",
       "<table border=\"1\" class=\"dataframe\">\n",
       "  <thead>\n",
       "    <tr style=\"text-align: right;\">\n",
       "      <th></th>\n",
       "      <th>time</th>\n",
       "      <th>130.5</th>\n",
       "      <th>0</th>\n",
       "      <th>44.6</th>\n",
       "      <th>480</th>\n",
       "      <th>380</th>\n",
       "      <th>285</th>\n",
       "      <th>191</th>\n",
       "      <th>94.1</th>\n",
       "      <th>140.2</th>\n",
       "    </tr>\n",
       "  </thead>\n",
       "  <tbody>\n",
       "    <tr>\n",
       "      <th>0</th>\n",
       "      <td>0.00</td>\n",
       "      <td>-28.232999</td>\n",
       "      <td>-31.857000</td>\n",
       "      <td>-32.412000</td>\n",
       "      <td>-26.382001</td>\n",
       "      <td>-26.420999</td>\n",
       "      <td>-26.457000</td>\n",
       "      <td>-26.441999</td>\n",
       "      <td>-29.983499</td>\n",
       "      <td>-26.497500</td>\n",
       "    </tr>\n",
       "    <tr>\n",
       "      <th>1</th>\n",
       "      <td>0.02</td>\n",
       "      <td>-23.427000</td>\n",
       "      <td>-24.061501</td>\n",
       "      <td>-31.209002</td>\n",
       "      <td>-26.380501</td>\n",
       "      <td>-26.404500</td>\n",
       "      <td>-26.443501</td>\n",
       "      <td>-26.448000</td>\n",
       "      <td>-29.676001</td>\n",
       "      <td>-26.497500</td>\n",
       "    </tr>\n",
       "    <tr>\n",
       "      <th>2</th>\n",
       "      <td>0.04</td>\n",
       "      <td>-24.724500</td>\n",
       "      <td>-23.967002</td>\n",
       "      <td>-22.300501</td>\n",
       "      <td>-26.378999</td>\n",
       "      <td>-26.399999</td>\n",
       "      <td>-26.452499</td>\n",
       "      <td>-26.441999</td>\n",
       "      <td>-29.090998</td>\n",
       "      <td>-26.496000</td>\n",
       "    </tr>\n",
       "    <tr>\n",
       "      <th>3</th>\n",
       "      <td>0.06</td>\n",
       "      <td>-28.850999</td>\n",
       "      <td>-22.576499</td>\n",
       "      <td>-31.611002</td>\n",
       "      <td>-26.391001</td>\n",
       "      <td>-26.416500</td>\n",
       "      <td>-26.449502</td>\n",
       "      <td>-26.446500</td>\n",
       "      <td>-22.126501</td>\n",
       "      <td>-26.506500</td>\n",
       "    </tr>\n",
       "    <tr>\n",
       "      <th>4</th>\n",
       "      <td>0.08</td>\n",
       "      <td>-27.162001</td>\n",
       "      <td>-29.584499</td>\n",
       "      <td>-25.921500</td>\n",
       "      <td>-26.374500</td>\n",
       "      <td>-26.417999</td>\n",
       "      <td>-26.450999</td>\n",
       "      <td>-26.443501</td>\n",
       "      <td>-30.241501</td>\n",
       "      <td>-26.505001</td>\n",
       "    </tr>\n",
       "    <tr>\n",
       "      <th>...</th>\n",
       "      <td>...</td>\n",
       "      <td>...</td>\n",
       "      <td>...</td>\n",
       "      <td>...</td>\n",
       "      <td>...</td>\n",
       "      <td>...</td>\n",
       "      <td>...</td>\n",
       "      <td>...</td>\n",
       "      <td>...</td>\n",
       "      <td>...</td>\n",
       "    </tr>\n",
       "    <tr>\n",
       "      <th>496</th>\n",
       "      <td>9.92</td>\n",
       "      <td>-29.208000</td>\n",
       "      <td>-32.347500</td>\n",
       "      <td>-48.903215</td>\n",
       "      <td>-26.380501</td>\n",
       "      <td>-26.413500</td>\n",
       "      <td>-26.450999</td>\n",
       "      <td>-26.446500</td>\n",
       "      <td>-30.868499</td>\n",
       "      <td>-26.502001</td>\n",
       "    </tr>\n",
       "    <tr>\n",
       "      <th>497</th>\n",
       "      <td>9.94</td>\n",
       "      <td>-24.339001</td>\n",
       "      <td>-22.204499</td>\n",
       "      <td>-29.860499</td>\n",
       "      <td>-26.391001</td>\n",
       "      <td>-26.412001</td>\n",
       "      <td>-26.457000</td>\n",
       "      <td>-26.448000</td>\n",
       "      <td>-22.353001</td>\n",
       "      <td>-26.496000</td>\n",
       "    </tr>\n",
       "    <tr>\n",
       "      <th>498</th>\n",
       "      <td>9.96</td>\n",
       "      <td>-23.812499</td>\n",
       "      <td>-31.354501</td>\n",
       "      <td>-30.700500</td>\n",
       "      <td>-26.394000</td>\n",
       "      <td>-26.408999</td>\n",
       "      <td>-26.448000</td>\n",
       "      <td>-26.441999</td>\n",
       "      <td>-27.410998</td>\n",
       "      <td>-26.503499</td>\n",
       "    </tr>\n",
       "    <tr>\n",
       "      <th>499</th>\n",
       "      <td>9.98</td>\n",
       "      <td>-28.770001</td>\n",
       "      <td>-28.012500</td>\n",
       "      <td>-22.389000</td>\n",
       "      <td>-26.391001</td>\n",
       "      <td>-26.410499</td>\n",
       "      <td>-26.429999</td>\n",
       "      <td>-26.445000</td>\n",
       "      <td>-30.781500</td>\n",
       "      <td>-26.500499</td>\n",
       "    </tr>\n",
       "    <tr>\n",
       "      <th>500</th>\n",
       "      <td>10.00</td>\n",
       "      <td>-28.321500</td>\n",
       "      <td>-23.113501</td>\n",
       "      <td>-31.672502</td>\n",
       "      <td>-26.389499</td>\n",
       "      <td>-26.408999</td>\n",
       "      <td>-26.461499</td>\n",
       "      <td>-26.446500</td>\n",
       "      <td>-22.015500</td>\n",
       "      <td>-26.497500</td>\n",
       "    </tr>\n",
       "  </tbody>\n",
       "</table>\n",
       "<p>501 rows × 10 columns</p>\n",
       "</div>"
      ],
      "text/plain": [
       "      time      130.5          0       44.6        480        380        285  \\\n",
       "0     0.00 -28.232999 -31.857000 -32.412000 -26.382001 -26.420999 -26.457000   \n",
       "1     0.02 -23.427000 -24.061501 -31.209002 -26.380501 -26.404500 -26.443501   \n",
       "2     0.04 -24.724500 -23.967002 -22.300501 -26.378999 -26.399999 -26.452499   \n",
       "3     0.06 -28.850999 -22.576499 -31.611002 -26.391001 -26.416500 -26.449502   \n",
       "4     0.08 -27.162001 -29.584499 -25.921500 -26.374500 -26.417999 -26.450999   \n",
       "..     ...        ...        ...        ...        ...        ...        ...   \n",
       "496   9.92 -29.208000 -32.347500 -48.903215 -26.380501 -26.413500 -26.450999   \n",
       "497   9.94 -24.339001 -22.204499 -29.860499 -26.391001 -26.412001 -26.457000   \n",
       "498   9.96 -23.812499 -31.354501 -30.700500 -26.394000 -26.408999 -26.448000   \n",
       "499   9.98 -28.770001 -28.012500 -22.389000 -26.391001 -26.410499 -26.429999   \n",
       "500  10.00 -28.321500 -23.113501 -31.672502 -26.389499 -26.408999 -26.461499   \n",
       "\n",
       "           191       94.1      140.2  \n",
       "0   -26.441999 -29.983499 -26.497500  \n",
       "1   -26.448000 -29.676001 -26.497500  \n",
       "2   -26.441999 -29.090998 -26.496000  \n",
       "3   -26.446500 -22.126501 -26.506500  \n",
       "4   -26.443501 -30.241501 -26.505001  \n",
       "..         ...        ...        ...  \n",
       "496 -26.446500 -30.868499 -26.502001  \n",
       "497 -26.448000 -22.353001 -26.496000  \n",
       "498 -26.441999 -27.410998 -26.503499  \n",
       "499 -26.445000 -30.781500 -26.500499  \n",
       "500 -26.446500 -22.015500 -26.497500  \n",
       "\n",
       "[501 rows x 10 columns]"
      ]
     },
     "execution_count": 12,
     "metadata": {},
     "output_type": "execute_result"
    }
   ],
   "source": [
    "data = pd.read_csv('vernier.csv')\n",
    "data"
   ]
  },
  {
   "cell_type": "code",
   "execution_count": 38,
   "id": "8ec9a51a-f510-4bc4-b05d-e425ea3b48b0",
   "metadata": {},
   "outputs": [],
   "source": [
    "stdev = []\n",
    "mean = []\n",
    "for capacitance in data.columns[1:]:\n",
    "    mean.append(np.mean(data[capacitance]))\n",
    "    stdev.append(np.std(data[capacitance]))"
   ]
  },
  {
   "cell_type": "code",
   "execution_count": 34,
   "id": "fb3cdaf5-e957-41b9-9325-6ce47f3c9987",
   "metadata": {},
   "outputs": [],
   "source": [
    "capacitances = np.array(data.columns[1:]).astype(np.float64)"
   ]
  },
  {
   "cell_type": "code",
   "execution_count": 53,
   "id": "c1679e99-c7fc-44d6-be40-d2b60795c1e0",
   "metadata": {},
   "outputs": [
    {
     "data": {
      "image/png": "[encoded data removed]",
      "text/plain": [
       "<Figure size 640x480 with 1 Axes>"
      ]
     },
     "metadata": {},
     "output_type": "display_data"
    }
   ],
   "source": [
    "plt.plot(capacitances, stdev, 'o')\n",
    "plt.title(\"Magnetic field stability\")\n",
    "plt.xlabel(r\"Parallel capacitance $\\mu F$\")\n",
    "plt.ylabel(\"Field stability (standard deviation) G\")\n",
    "plt.savefig(\"field_stability.png\")"
   ]
  },
  {
   "cell_type": "code",
   "execution_count": 42,
   "id": "d038eada-4fbf-44ba-aae2-754f535585b3",
   "metadata": {},
   "outputs": [
    {
     "data": {
      "text/plain": [
       "[<matplotlib.lines.Line2D at 0x15ea613d0>]"
      ]
     },
     "execution_count": 42,
     "metadata": {},
     "output_type": "execute_result"
    },
    {
     "data": {
      "image/png": "[encoded data removed]",
      "text/plain": [
       "<Figure size 640x480 with 1 Axes>"
      ]
     },
     "metadata": {},
     "output_type": "display_data"
    }
   ],
   "source": [
    "plt.plot(capacitances, -np.array(mean), 'o')"
   ]
  },
  {
   "cell_type": "code",
   "execution_count": null,
   "id": "98d43f7b-ef37-4c7f-91b0-4c534be390d4",
   "metadata": {},
   "outputs": [],
   "source": []
  }
 ],
 "metadata": {
  "kernelspec": {
   "display_name": "Python 3 (ipykernel)",
   "language": "python",
   "name": "python3"
  },
  "language_info": {
   "codemirror_mode": {
    "name": "ipython",
    "version": 3
   },
   "file_extension": ".py",
   "mimetype": "text/x-python",
   "name": "python",
   "nbconvert_exporter": "python",
   "pygments_lexer": "ipython3",
   "version": "3.11.5"
  }
 },
 "nbformat": 4,
 "nbformat_minor": 5
}
