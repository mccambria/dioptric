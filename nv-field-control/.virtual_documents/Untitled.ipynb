import matplotlib.pyplot as plt
import numpy as np
import pandas as pd


data = pd.read_csv('vernier.csv')
data


stdev = []
mean = []
for capacitance in data.columns[1:]:
    mean.append(np.mean(data[capacitance]))
    stdev.append(np.std(data[capacitance]))


capacitances = np.array(data.columns[1:]).astype(np.float64)


plt.plot(capacitances, stdev, 'o')
plt.title("Magnetic field stability")
plt.xlabel(r"Parallel capacitance $\mu F$")
plt.ylabel("Field stability (standard deviation) G")
plt.savefig("field_stability.png")


plt.plot(capacitances, -np.array(mean), 'o')



